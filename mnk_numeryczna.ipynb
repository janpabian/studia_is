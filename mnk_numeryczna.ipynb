{
 "cells": [
  {
   "cell_type": "code",
   "execution_count": 1,
   "metadata": {},
   "outputs": [],
   "source": [
    "import numpy as np\n",
    "from pandas import DataFrame , read_excel\n",
    "import scipy as sp\n",
    "import math\n",
    "import matplotlib.pyplot as plt\n",
    "from scipy import optimize\n"
   ]
  },
  {
   "cell_type": "code",
   "execution_count": 10,
   "metadata": {},
   "outputs": [],
   "source": [
    "def pot1(a,x):\n",
    "    return (a[0]*x+a[1])\n",
    "def pot2(a,x):\n",
    "    return (a[0]*pow(x,2)+a[1]*x+a[2])\n",
    "def pot3(a,x):\n",
    "    return (a[0]*pow(x,3)+a[1]*pow(x,2)+a[2]*x+a[3])\n",
    "def sina(a,x):\n",
    "    return (np.sin(a[0]*x)+a[1])\n",
    "        \n",
    "\n",
    "def mnk1(a, x, y):\n",
    "    return np.sum(pow((pot1(a, x)-y),2))\n",
    "def mnk2(a, x, y):\n",
    "    return np.sum(pow((pot2(a, x)-y),2))\n",
    "def mnk3(a, x, y):\n",
    "    return np.sum(abs(pot1(a, x)-y))\n",
    "def mnk4(a, x, y):\n",
    "    return np.sum(abs(pot2(a, x)-y))\n",
    "def mnk5(a,x,y):\n",
    "    return np.sum(abs(pot3(a,x)-y))\n",
    "def mnk_sin(a,x,y):\n",
    "    return np.sum(abs(sina(a,x)-y))\n",
    "def optymalizuj(f, start):\n",
    "    opt1 = optimize.fmin(f, start)\n",
    "    print(opt1)\n",
    "    return opt1\n",
    "def clean_nans(l1,l2):\n",
    "    for i in range(0,len(l1)-1):\n",
    "        if math.isnan(l1[i]):\n",
    "            l1.remove(l1[i])\n",
    "            l2.remove(l2[i])\n",
    "    for i in range(len(l1)-1,0,-1):\n",
    "        if math.isnan(l1[i]):\n",
    "            l1.remove(l1[i])\n",
    "            l2.remove(l2[i])\n",
    "    for i in range(0,len(l2)-1):\n",
    "        if math.isnan(l2[i]):\n",
    "            l1.remove(l1[i])\n",
    "            l2.remove(l2[i])\n",
    "    for i in range(len(l2)-1,0,-1):\n",
    "        if math.isnan(l2[i]):\n",
    "            l1.remove(l1[i])\n",
    "            l2.remove(l2[i])\n",
    "    return l1,l2  "
   ]
  }
 ],
 "metadata": {
  "kernelspec": {
   "display_name": "Python 3",
   "language": "python",
   "name": "python3"
  },
  "language_info": {
   "codemirror_mode": {
    "name": "ipython",
    "version": 3
   },
   "file_extension": ".py",
   "mimetype": "text/x-python",
   "name": "python",
   "nbconvert_exporter": "python",
   "pygments_lexer": "ipython3",
   "version": "3.7.3"
  }
 },
 "nbformat": 4,
 "nbformat_minor": 2
}
