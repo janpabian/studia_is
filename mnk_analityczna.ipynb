{
 "cells": [
  {
   "cell_type": "code",
   "execution_count": 6,
   "metadata": {},
   "outputs": [],
   "source": [
    "import numpy as np\n",
    "import scipy as sp\n",
    "import matplotlib.pyplot as plt\n",
    "from scipy import optimize\n",
    "from pandas import DataFrame , read_excel\n"
   ]
  },
  {
   "cell_type": "code",
   "execution_count": 1,
   "metadata": {},
   "outputs": [],
   "source": [
    "def analityczna(stopa,wydatki):\n",
    "    w1=np.power(wydatki,2)\n",
    "    w2=wydatki\n",
    "    w3=(np.ones(wydatki.size)).reshape(1,wydatki.size)  \n",
    "    x=np.matrix(np.concatenate((w1,w2,w3)))\n",
    "    x2=np.matrix(np.concatenate((w2,w3)))\n",
    "    a1=(pow(x*np.transpose(x),-1)*(x*np.transpose(stopa)))\n",
    "    a2=pow(x2*np.transpose(x2),-1)*(x2*np.transpose(stopa))\n",
    "    return a1,a2\n"
   ]
  }
 ],
 "metadata": {
  "kernelspec": {
   "display_name": "Python 3",
   "language": "python",
   "name": "python3"
  },
  "language_info": {
   "codemirror_mode": {
    "name": "ipython",
    "version": 3
   },
   "file_extension": ".py",
   "mimetype": "text/x-python",
   "name": "python",
   "nbconvert_exporter": "python",
   "pygments_lexer": "ipython3",
   "version": "3.7.3"
  }
 },
 "nbformat": 4,
 "nbformat_minor": 2
}
